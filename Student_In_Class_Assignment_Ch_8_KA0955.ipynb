{
  "nbformat": 4,
  "nbformat_minor": 0,
  "metadata": {
    "colab": {
      "provenance": [],
      "include_colab_link": true
    },
    "kernelspec": {
      "name": "python3",
      "display_name": "Python 3"
    },
    "language_info": {
      "name": "python"
    }
  },
  "cells": [
    {
      "cell_type": "markdown",
      "metadata": {
        "id": "view-in-github",
        "colab_type": "text"
      },
      "source": [
        "<a href=\"https://colab.research.google.com/github/Katkins178/KendallA_DTSC3020_Fall2025/blob/main/Student_In_Class_Assignment_Ch_8_KA0955.ipynb\" target=\"_parent\"><img src=\"https://colab.research.google.com/assets/colab-badge.svg\" alt=\"Open In Colab\"/></a>"
      ]
    },
    {
      "cell_type": "markdown",
      "source": [
        "##Final Class Exercise"
      ],
      "metadata": {
        "id": "51gCuC6VJ3gu"
      }
    },
    {
      "cell_type": "markdown",
      "source": [
        "Write a Python function create_email(full_name) that builds a UNT email in the format\n",
        "firstname.lastname@my.unt.edu.\n",
        "\n",
        "Rules\n",
        "\n",
        " • Use the first and last word from full_name (case-insensitive).\n",
        "\n",
        " • Convert everything to lowercase.\n",
        "\n",
        " • If there is only one word, use it twice (e.g., \"ali\" → ali.ali@my.unt.edu).\n",
        "\n",
        " • Return the email string.\n",
        "\n",
        "\n",
        "Constraints\n",
        "\n",
        " • Use a function and return.\n",
        "\n",
        " • Do not use input() or external libraries.\n",
        "\n",
        "\n",
        " test your code with this list\n",
        " names = [\n",
        "    \"Sara Amini\",\n",
        "    \"Ali\",\n",
        "    \"Mary Jane\",\n",
        "    \"  John   Smith  \",\n",
        "    \"LINA\",\n",
        "    \"madonna\",\n",
        "    \"  sara   amini  \"\n",
        "]"
      ],
      "metadata": {
        "id": "7pxJ6i3jH7Yq"
      }
    },
    {
      "cell_type": "code",
      "source": [
        "# Write your solution here.\n",
        "\n",
        "def create_email(full_names):\n",
        "    result = []\n",
        "    for name in full_names:\n",
        "        name = name.strip()\n",
        "        parts = name.split()\n",
        "        if len(parts) == 2:\n",
        "            email = parts[0].lower() + \".\" + parts[-1].lower() + \"@my.unt.edu\"\n",
        "        else:\n",
        "            email = parts[0].lower() + \".\" + parts[0].lower()  + \"@my.unt.edu\"\n",
        "        result.append(email)\n",
        "    return result\n",
        "\n",
        "\n",
        "print(create_email([\n",
        "    \"Sara Amini\",\n",
        "    \"Ali\",\n",
        "    \"Mary Jane\",\n",
        "    \"  John   Smith  \",\n",
        "    \"LINA\",\n",
        "    \"madonna\",\n",
        "    \"sara amini\"\n",
        "]))\n",
        "\n",
        "\n"
      ],
      "metadata": {
        "id": "6jcH9Qm_IXWh",
        "colab": {
          "base_uri": "https://localhost:8080/"
        },
        "outputId": "d3ea5822-0e54-4862-c9ba-15b5a3a07a32"
      },
      "execution_count": 9,
      "outputs": [
        {
          "output_type": "stream",
          "name": "stdout",
          "text": [
            "['sara.amini@my.unt.edu', 'ali.ali@my.unt.edu', 'mary.jane@my.unt.edu', 'john.smith@my.unt.edu', 'lina.lina@my.unt.edu', 'madonna.madonna@my.unt.edu', 'sara.amini@my.unt.edu']\n"
          ]
        }
      ]
    }
  ]
}