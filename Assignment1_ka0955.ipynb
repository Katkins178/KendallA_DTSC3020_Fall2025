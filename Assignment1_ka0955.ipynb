{
  "nbformat": 4,
  "nbformat_minor": 0,
  "metadata": {
    "colab": {
      "provenance": [],
      "include_colab_link": true
    },
    "kernelspec": {
      "name": "python3",
      "display_name": "Python 3"
    },
    "language_info": {
      "name": "python"
    }
  },
  "cells": [
    {
      "cell_type": "markdown",
      "metadata": {
        "id": "view-in-github",
        "colab_type": "text"
      },
      "source": [
        "<a href=\"https://colab.research.google.com/github/Katkins178/KendallA_DTSC3020_Fall2025/blob/main/Assignment1_ka0955.ipynb\" target=\"_parent\"><img src=\"https://colab.research.google.com/assets/colab-badge.svg\" alt=\"Open In Colab\"/></a>"
      ]
    },
    {
      "cell_type": "code",
      "execution_count": null,
      "metadata": {
        "id": "ntarScE2P5Qs"
      },
      "outputs": [],
      "source": []
    },
    {
      "cell_type": "code",
      "source": [
        "print (\"welcome to pyhton\")"
      ],
      "metadata": {
        "colab": {
          "base_uri": "https://localhost:8080/"
        },
        "id": "JowbtS1zUeC3",
        "outputId": "ce509d29-5f4f-46a2-8ac0-9d5215113e7b"
      },
      "execution_count": 1,
      "outputs": [
        {
          "output_type": "stream",
          "name": "stdout",
          "text": [
            "welcome to pyhton\n"
          ]
        }
      ]
    },
    {
      "cell_type": "code",
      "source": [
        "name=\"Kendall\""
      ],
      "metadata": {
        "id": "fCHV8PFLUoeC"
      },
      "execution_count": 2,
      "outputs": []
    },
    {
      "cell_type": "code",
      "source": [
        "print (name)"
      ],
      "metadata": {
        "colab": {
          "base_uri": "https://localhost:8080/"
        },
        "id": "PmKyxsaLUoxT",
        "outputId": "20b44d05-f67e-453a-9eda-84b90feac68f"
      },
      "execution_count": 3,
      "outputs": [
        {
          "output_type": "stream",
          "name": "stdout",
          "text": [
            "Kendall\n"
          ]
        }
      ]
    },
    {
      "cell_type": "code",
      "source": [
        "print (\"welcome,\" , name)"
      ],
      "metadata": {
        "colab": {
          "base_uri": "https://localhost:8080/"
        },
        "id": "FNev-MpBUo4m",
        "outputId": "c5739130-0741-43f3-baae-97a589d66562"
      },
      "execution_count": 4,
      "outputs": [
        {
          "output_type": "stream",
          "name": "stdout",
          "text": [
            "welcome, Kendall\n"
          ]
        }
      ]
    },
    {
      "cell_type": "code",
      "source": [
        "print(\"welcome to python,\", name)\n"
      ],
      "metadata": {
        "colab": {
          "base_uri": "https://localhost:8080/"
        },
        "id": "GHsiZ6SuSkzp",
        "outputId": "5f29f7ba-4193-41cc-d4b2-0b05b3798abe"
      },
      "execution_count": 5,
      "outputs": [
        {
          "output_type": "stream",
          "name": "stdout",
          "text": [
            "welcome to python, Kendall\n"
          ]
        }
      ]
    }
  ]
}