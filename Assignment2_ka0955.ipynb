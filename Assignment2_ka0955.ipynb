{
  "nbformat": 4,
  "nbformat_minor": 0,
  "metadata": {
    "colab": {
      "provenance": [],
      "authorship_tag": "ABX9TyN8UIfqwjE8vrugew3LrYp+",
      "include_colab_link": true
    },
    "kernelspec": {
      "name": "python3",
      "display_name": "Python 3"
    },
    "language_info": {
      "name": "python"
    }
  },
  "cells": [
    {
      "cell_type": "markdown",
      "metadata": {
        "id": "view-in-github",
        "colab_type": "text"
      },
      "source": [
        "<a href=\"https://colab.research.google.com/github/Katkins178/KendallA_DTSC3020_Fall2025/blob/main/Assignment2_ka0955.ipynb\" target=\"_parent\"><img src=\"https://colab.research.google.com/assets/colab-badge.svg\" alt=\"Open In Colab\"/></a>"
      ]
    },
    {
      "cell_type": "code",
      "execution_count": 3,
      "metadata": {
        "colab": {
          "base_uri": "https://localhost:8080/"
        },
        "id": "SIzVS6S5lm5l",
        "outputId": "a2c5ef02-2d9e-4149-d0a1-c6200274c5d2"
      },
      "outputs": [
        {
          "output_type": "stream",
          "name": "stdout",
          "text": [
            "['apple', 'banana', 'orange']\n",
            "apple\n",
            "banana\n",
            "orange\n"
          ]
        }
      ],
      "source": [
        "fruits = ['apple', 'banana', 'orange']\n",
        "print(fruits)\n",
        "for fruit in fruits:\n",
        "    print(fruit)"
      ]
    },
    {
      "cell_type": "code",
      "source": [
        "names = ['Nira', 'Veronica', 'Godwill', 'Eni']\n",
        "names [0] = 'Bolu'\n",
        "print(names)"
      ],
      "metadata": {
        "colab": {
          "base_uri": "https://localhost:8080/"
        },
        "id": "4Uk_Q341mdwF",
        "outputId": "5382d750-4706-4af8-e722-1fb3f1919917"
      },
      "execution_count": 2,
      "outputs": [
        {
          "output_type": "stream",
          "name": "stdout",
          "text": [
            "['Bolu', 'Veronica', 'Godwill', 'Eni']\n"
          ]
        }
      ]
    },
    {
      "cell_type": "code",
      "source": [
        "vehicles = ['car', 'bus', 'train', 'bike', 'plane']\n",
        "vehicles.append('boat')\n",
        "print(vehicles)"
      ],
      "metadata": {
        "colab": {
          "base_uri": "https://localhost:8080/"
        },
        "id": "iuHWW--kUx4d",
        "outputId": "f8a6588d-ea9c-4fcc-d622-dd7f65001d72"
      },
      "execution_count": 4,
      "outputs": [
        {
          "output_type": "stream",
          "name": "stdout",
          "text": [
            "['car', 'bus', 'train', 'bike', 'plane', 'boat']\n"
          ]
        }
      ]
    },
    {
      "cell_type": "code",
      "source": [
        "foods = ['sushi', 'burrito', 'salad', 'pizza', 'pasta', 'burger' ]\n",
        "del foods[3]\n",
        "print(foods)"
      ],
      "metadata": {
        "colab": {
          "base_uri": "https://localhost:8080/"
        },
        "id": "HG7mwbl6VTDf",
        "outputId": "9746c4bd-3bc4-44d0-cb71-ddedb15b4706"
      },
      "execution_count": 5,
      "outputs": [
        {
          "output_type": "stream",
          "name": "stdout",
          "text": [
            "['sushi', 'burrito', 'salad', 'pasta', 'burger']\n"
          ]
        }
      ]
    },
    {
      "cell_type": "code",
      "source": [
        "cities = ['Houston', 'Dallas', 'San Antonio', 'Austin']\n",
        "cities.sort()\n",
        "cities.sort(reverse=True)\n",
        "print(cities) # Not reqired, but used to check"
      ],
      "metadata": {
        "colab": {
          "base_uri": "https://localhost:8080/"
        },
        "id": "cUlVS95uW2Gj",
        "outputId": "b9b0022d-abd8-425b-fe04-b22039bee004"
      },
      "execution_count": 7,
      "outputs": [
        {
          "output_type": "stream",
          "name": "stdout",
          "text": [
            "['San Antonio', 'Houston', 'Dallas', 'Austin']\n"
          ]
        }
      ]
    },
    {
      "cell_type": "code",
      "source": [
        "animals = ['Eagle', 'Duck', 'Pigeon']\n",
        "for animals in animals:\n",
        "    print(animals)\n"
      ],
      "metadata": {
        "colab": {
          "base_uri": "https://localhost:8080/"
        },
        "id": "tkkqZF6TXzT-",
        "outputId": "45cc85a0-d6e7-468e-99b7-828be4dcf058"
      },
      "execution_count": 5,
      "outputs": [
        {
          "output_type": "stream",
          "name": "stdout",
          "text": [
            "Eagle\n",
            "Duck\n",
            "Pigeon\n"
          ]
        }
      ]
    },
    {
      "cell_type": "code",
      "source": [
        "numbers = [1,2,3,4,5]\n",
        "for numbers in numbers:\n",
        "    print(numbers * 2)"
      ],
      "metadata": {
        "colab": {
          "base_uri": "https://localhost:8080/"
        },
        "id": "xPW-RZeWuaGq",
        "outputId": "42735f34-e696-4a9d-9bcf-5eaa80be6082"
      },
      "execution_count": 22,
      "outputs": [
        {
          "output_type": "stream",
          "name": "stdout",
          "text": [
            "2\n",
            "4\n",
            "6\n",
            "8\n",
            "10\n"
          ]
        }
      ]
    },
    {
      "cell_type": "code",
      "source": [
        "friends = ['DeShawn', 'Malik', 'Aaliyah', 'Marcus','Darnell', 'Zuri' ]\n",
        "for friendFirst in friends [:3]:\n",
        "    print(friendFirst)\n",
        "for friendLast in friends [3:]:\n",
        "    print(friendLast)"
      ],
      "metadata": {
        "colab": {
          "base_uri": "https://localhost:8080/"
        },
        "id": "-3_dqMLDwZKq",
        "outputId": "7f5977a8-5f28-4ddc-d698-80333b91cf45"
      },
      "execution_count": 23,
      "outputs": [
        {
          "output_type": "stream",
          "name": "stdout",
          "text": [
            "DeShawn\n",
            "Malik\n",
            "Aaliyah\n",
            "Marcus\n",
            "Darnell\n",
            "Zuri\n"
          ]
        }
      ]
    },
    {
      "cell_type": "code",
      "source": [
        "for value in range (1,11):\n",
        "  print (value)"
      ],
      "metadata": {
        "colab": {
          "base_uri": "https://localhost:8080/"
        },
        "id": "-ERH8SR5yOyf",
        "outputId": "8e34bfd2-d11a-4297-aa2e-34524a6d537d"
      },
      "execution_count": 24,
      "outputs": [
        {
          "output_type": "stream",
          "name": "stdout",
          "text": [
            "1\n",
            "2\n",
            "3\n",
            "4\n",
            "5\n",
            "6\n",
            "7\n",
            "8\n",
            "9\n",
            "10\n"
          ]
        }
      ]
    },
    {
      "cell_type": "code",
      "source": [
        "numSquared = [value ** 2 for value in range (1,6)]\n",
        "print(numSquared)"
      ],
      "metadata": {
        "colab": {
          "base_uri": "https://localhost:8080/"
        },
        "id": "URvKL__WyfvG",
        "outputId": "1e2d9a55-5175-47af-bed7-21b5ea97d944"
      },
      "execution_count": 26,
      "outputs": [
        {
          "output_type": "stream",
          "name": "stdout",
          "text": [
            "[1, 4, 9, 16, 25]\n"
          ]
        }
      ]
    }
  ]
}